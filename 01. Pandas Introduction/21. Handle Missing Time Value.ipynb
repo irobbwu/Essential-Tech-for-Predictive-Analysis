{
 "cells": [
  {
   "cell_type": "markdown",
   "id": "raised-treasure",
   "metadata": {},
   "source": [
    "# Handle Missing Time Value\n",
    "\n",
    "1. DataFrame.reindex\n",
    "2. DataFrame.resample"
   ]
  },
  {
   "cell_type": "code",
   "execution_count": 1,
   "id": "iraqi-signal",
   "metadata": {},
   "outputs": [],
   "source": [
    "import pandas as pd\n",
    "%matplotlib inline"
   ]
  },
  {
   "cell_type": "code",
   "execution_count": 2,
   "id": "amino-death",
   "metadata": {},
   "outputs": [
    {
     "data": {
      "text/html": [
       "<div>\n",
       "<style scoped>\n",
       "    .dataframe tbody tr th:only-of-type {\n",
       "        vertical-align: middle;\n",
       "    }\n",
       "\n",
       "    .dataframe tbody tr th {\n",
       "        vertical-align: top;\n",
       "    }\n",
       "\n",
       "    .dataframe thead th {\n",
       "        text-align: right;\n",
       "    }\n",
       "</style>\n",
       "<table border=\"1\" class=\"dataframe\">\n",
       "  <thead>\n",
       "    <tr style=\"text-align: right;\">\n",
       "      <th></th>\n",
       "      <th>pdate</th>\n",
       "      <th>pv</th>\n",
       "      <th>uv</th>\n",
       "    </tr>\n",
       "  </thead>\n",
       "  <tbody>\n",
       "    <tr>\n",
       "      <th>0</th>\n",
       "      <td>2019-12-01</td>\n",
       "      <td>100</td>\n",
       "      <td>10</td>\n",
       "    </tr>\n",
       "    <tr>\n",
       "      <th>1</th>\n",
       "      <td>2019-12-02</td>\n",
       "      <td>200</td>\n",
       "      <td>20</td>\n",
       "    </tr>\n",
       "    <tr>\n",
       "      <th>2</th>\n",
       "      <td>2019-12-04</td>\n",
       "      <td>400</td>\n",
       "      <td>40</td>\n",
       "    </tr>\n",
       "    <tr>\n",
       "      <th>3</th>\n",
       "      <td>2019-12-05</td>\n",
       "      <td>500</td>\n",
       "      <td>50</td>\n",
       "    </tr>\n",
       "  </tbody>\n",
       "</table>\n",
       "</div>"
      ],
      "text/plain": [
       "        pdate   pv  uv\n",
       "0  2019-12-01  100  10\n",
       "1  2019-12-02  200  20\n",
       "2  2019-12-04  400  40\n",
       "3  2019-12-05  500  50"
      ]
     },
     "execution_count": 2,
     "metadata": {},
     "output_type": "execute_result"
    }
   ],
   "source": [
    "df = pd.DataFrame({\n",
    "    \"pdate\": [\"2019-12-01\", \"2019-12-02\", \"2019-12-04\", \"2019-12-05\"],\n",
    "    \"pv\": [100, 200, 400, 500],\n",
    "    \"uv\": [10, 20, 40, 50],\n",
    "})\n",
    "\n",
    "df"
   ]
  },
  {
   "cell_type": "code",
   "execution_count": 3,
   "id": "inside-starter",
   "metadata": {},
   "outputs": [
    {
     "name": "stderr",
     "output_type": "stream",
     "text": [
      "/opt/anaconda3/lib/python3.7/site-packages/pandas/plotting/_core.py:402: UserWarning: FixedFormatter should only be used together with FixedLocator\n",
      "  ax.set_xticklabels(xticklabels)\n"
     ]
    },
    {
     "data": {
      "text/plain": [
       "<AxesSubplot:xlabel='pdate'>"
      ]
     },
     "execution_count": 3,
     "metadata": {},
     "output_type": "execute_result"
    },
    {
     "data": {
      "image/png": "[encoded data removed]",
      "text/plain": [
       "<Figure size 432x288 with 1 Axes>"
      ]
     },
     "metadata": {
      "needs_background": "light"
     },
     "output_type": "display_data"
    }
   ],
   "source": [
    "df.set_index(\"pdate\").plot()"
   ]
  },
  {
   "cell_type": "markdown",
   "id": "furnished-wallet",
   "metadata": {},
   "source": [
    "**Missing the 2019-12-03 value**"
   ]
  },
  {
   "cell_type": "markdown",
   "id": "closed-commissioner",
   "metadata": {},
   "source": [
    "###### pd.reindex"
   ]
  },
  {
   "cell_type": "code",
   "execution_count": 4,
   "id": "confirmed-toronto",
   "metadata": {},
   "outputs": [
    {
     "data": {
      "text/html": [
       "<div>\n",
       "<style scoped>\n",
       "    .dataframe tbody tr th:only-of-type {\n",
       "        vertical-align: middle;\n",
       "    }\n",
       "\n",
       "    .dataframe tbody tr th {\n",
       "        vertical-align: top;\n",
       "    }\n",
       "\n",
       "    .dataframe thead th {\n",
       "        text-align: right;\n",
       "    }\n",
       "</style>\n",
       "<table border=\"1\" class=\"dataframe\">\n",
       "  <thead>\n",
       "    <tr style=\"text-align: right;\">\n",
       "      <th></th>\n",
       "      <th>pv</th>\n",
       "      <th>uv</th>\n",
       "    </tr>\n",
       "    <tr>\n",
       "      <th>pdate</th>\n",
       "      <th></th>\n",
       "      <th></th>\n",
       "    </tr>\n",
       "  </thead>\n",
       "  <tbody>\n",
       "    <tr>\n",
       "      <th>2019-12-01</th>\n",
       "      <td>100</td>\n",
       "      <td>10</td>\n",
       "    </tr>\n",
       "    <tr>\n",
       "      <th>2019-12-02</th>\n",
       "      <td>200</td>\n",
       "      <td>20</td>\n",
       "    </tr>\n",
       "    <tr>\n",
       "      <th>2019-12-04</th>\n",
       "      <td>400</td>\n",
       "      <td>40</td>\n",
       "    </tr>\n",
       "    <tr>\n",
       "      <th>2019-12-05</th>\n",
       "      <td>500</td>\n",
       "      <td>50</td>\n",
       "    </tr>\n",
       "  </tbody>\n",
       "</table>\n",
       "</div>"
      ],
      "text/plain": [
       "             pv  uv\n",
       "pdate              \n",
       "2019-12-01  100  10\n",
       "2019-12-02  200  20\n",
       "2019-12-04  400  40\n",
       "2019-12-05  500  50"
      ]
     },
     "execution_count": 4,
     "metadata": {},
     "output_type": "execute_result"
    }
   ],
   "source": [
    "df_date = df.set_index(\"pdate\")\n",
    "df_date"
   ]
  },
  {
   "cell_type": "code",
   "execution_count": 5,
   "id": "fatal-messaging",
   "metadata": {},
   "outputs": [
    {
     "data": {
      "text/plain": [
       "Index(['2019-12-01', '2019-12-02', '2019-12-04', '2019-12-05'], dtype='object', name='pdate')"
      ]
     },
     "execution_count": 5,
     "metadata": {},
     "output_type": "execute_result"
    }
   ],
   "source": [
    "df_date.index"
   ]
  },
  {
   "cell_type": "code",
   "execution_count": 6,
   "id": "planned-agreement",
   "metadata": {},
   "outputs": [
    {
     "data": {
      "text/html": [
       "<div>\n",
       "<style scoped>\n",
       "    .dataframe tbody tr th:only-of-type {\n",
       "        vertical-align: middle;\n",
       "    }\n",
       "\n",
       "    .dataframe tbody tr th {\n",
       "        vertical-align: top;\n",
       "    }\n",
       "\n",
       "    .dataframe thead th {\n",
       "        text-align: right;\n",
       "    }\n",
       "</style>\n",
       "<table border=\"1\" class=\"dataframe\">\n",
       "  <thead>\n",
       "    <tr style=\"text-align: right;\">\n",
       "      <th></th>\n",
       "      <th>pv</th>\n",
       "      <th>uv</th>\n",
       "    </tr>\n",
       "    <tr>\n",
       "      <th>pdate</th>\n",
       "      <th></th>\n",
       "      <th></th>\n",
       "    </tr>\n",
       "  </thead>\n",
       "  <tbody>\n",
       "    <tr>\n",
       "      <th>2019-12-01</th>\n",
       "      <td>100</td>\n",
       "      <td>10</td>\n",
       "    </tr>\n",
       "    <tr>\n",
       "      <th>2019-12-02</th>\n",
       "      <td>200</td>\n",
       "      <td>20</td>\n",
       "    </tr>\n",
       "    <tr>\n",
       "      <th>2019-12-04</th>\n",
       "      <td>400</td>\n",
       "      <td>40</td>\n",
       "    </tr>\n",
       "    <tr>\n",
       "      <th>2019-12-05</th>\n",
       "      <td>500</td>\n",
       "      <td>50</td>\n",
       "    </tr>\n",
       "  </tbody>\n",
       "</table>\n",
       "</div>"
      ],
      "text/plain": [
       "             pv  uv\n",
       "pdate              \n",
       "2019-12-01  100  10\n",
       "2019-12-02  200  20\n",
       "2019-12-04  400  40\n",
       "2019-12-05  500  50"
      ]
     },
     "execution_count": 6,
     "metadata": {},
     "output_type": "execute_result"
    }
   ],
   "source": [
    "df_date = df_date.set_index(pd.to_datetime(df_date.index))\n",
    "df_date"
   ]
  },
  {
   "cell_type": "code",
   "execution_count": 7,
   "id": "finite-vocabulary",
   "metadata": {},
   "outputs": [
    {
     "data": {
      "text/plain": [
       "DatetimeIndex(['2019-12-01', '2019-12-02', '2019-12-04', '2019-12-05'], dtype='datetime64[ns]', name='pdate', freq=None)"
      ]
     },
     "execution_count": 7,
     "metadata": {},
     "output_type": "execute_result"
    }
   ],
   "source": [
    "df_date.index"
   ]
  },
  {
   "cell_type": "code",
   "execution_count": 8,
   "id": "level-applicant",
   "metadata": {},
   "outputs": [
    {
     "data": {
      "text/plain": [
       "DatetimeIndex(['2019-12-01', '2019-12-02', '2019-12-03', '2019-12-04',\n",
       "               '2019-12-05'],\n",
       "              dtype='datetime64[ns]', freq='D')"
      ]
     },
     "execution_count": 8,
     "metadata": {},
     "output_type": "execute_result"
    }
   ],
   "source": [
    "pdates = pd.date_range(start=\"2019-12-01\", end=\"2019-12-05\")\n",
    "pdates"
   ]
  },
  {
   "cell_type": "code",
   "execution_count": 9,
   "id": "quantitative-texas",
   "metadata": {},
   "outputs": [
    {
     "data": {
      "text/html": [
       "<div>\n",
       "<style scoped>\n",
       "    .dataframe tbody tr th:only-of-type {\n",
       "        vertical-align: middle;\n",
       "    }\n",
       "\n",
       "    .dataframe tbody tr th {\n",
       "        vertical-align: top;\n",
       "    }\n",
       "\n",
       "    .dataframe thead th {\n",
       "        text-align: right;\n",
       "    }\n",
       "</style>\n",
       "<table border=\"1\" class=\"dataframe\">\n",
       "  <thead>\n",
       "    <tr style=\"text-align: right;\">\n",
       "      <th></th>\n",
       "      <th>pv</th>\n",
       "      <th>uv</th>\n",
       "    </tr>\n",
       "  </thead>\n",
       "  <tbody>\n",
       "    <tr>\n",
       "      <th>2019-12-01</th>\n",
       "      <td>100</td>\n",
       "      <td>10</td>\n",
       "    </tr>\n",
       "    <tr>\n",
       "      <th>2019-12-02</th>\n",
       "      <td>200</td>\n",
       "      <td>20</td>\n",
       "    </tr>\n",
       "    <tr>\n",
       "      <th>2019-12-03</th>\n",
       "      <td>0</td>\n",
       "      <td>0</td>\n",
       "    </tr>\n",
       "    <tr>\n",
       "      <th>2019-12-04</th>\n",
       "      <td>400</td>\n",
       "      <td>40</td>\n",
       "    </tr>\n",
       "    <tr>\n",
       "      <th>2019-12-05</th>\n",
       "      <td>500</td>\n",
       "      <td>50</td>\n",
       "    </tr>\n",
       "  </tbody>\n",
       "</table>\n",
       "</div>"
      ],
      "text/plain": [
       "             pv  uv\n",
       "2019-12-01  100  10\n",
       "2019-12-02  200  20\n",
       "2019-12-03    0   0\n",
       "2019-12-04  400  40\n",
       "2019-12-05  500  50"
      ]
     },
     "execution_count": 9,
     "metadata": {},
     "output_type": "execute_result"
    }
   ],
   "source": [
    "df_date_new = df_date.reindex(pdates, fill_value=0)\n",
    "df_date_new"
   ]
  },
  {
   "cell_type": "code",
   "execution_count": 10,
   "id": "tired-proceeding",
   "metadata": {},
   "outputs": [
    {
     "data": {
      "text/plain": [
       "<AxesSubplot:>"
      ]
     },
     "execution_count": 10,
     "metadata": {},
     "output_type": "execute_result"
    },
    {
     "data": {
      "image/png": "[encoded data removed]",
      "text/plain": [
       "<Figure size 432x288 with 1 Axes>"
      ]
     },
     "metadata": {
      "needs_background": "light"
     },
     "output_type": "display_data"
    }
   ],
   "source": [
    "df_date_new.plot()"
   ]
  },
  {
   "cell_type": "markdown",
   "id": "gross-young",
   "metadata": {},
   "source": [
    "###### pd.resample"
   ]
  },
  {
   "cell_type": "code",
   "execution_count": 11,
   "id": "protecting-allah",
   "metadata": {},
   "outputs": [
    {
     "data": {
      "text/html": [
       "<div>\n",
       "<style scoped>\n",
       "    .dataframe tbody tr th:only-of-type {\n",
       "        vertical-align: middle;\n",
       "    }\n",
       "\n",
       "    .dataframe tbody tr th {\n",
       "        vertical-align: top;\n",
       "    }\n",
       "\n",
       "    .dataframe thead th {\n",
       "        text-align: right;\n",
       "    }\n",
       "</style>\n",
       "<table border=\"1\" class=\"dataframe\">\n",
       "  <thead>\n",
       "    <tr style=\"text-align: right;\">\n",
       "      <th></th>\n",
       "      <th>pdate</th>\n",
       "      <th>pv</th>\n",
       "      <th>uv</th>\n",
       "    </tr>\n",
       "  </thead>\n",
       "  <tbody>\n",
       "    <tr>\n",
       "      <th>0</th>\n",
       "      <td>2019-12-01</td>\n",
       "      <td>100</td>\n",
       "      <td>10</td>\n",
       "    </tr>\n",
       "    <tr>\n",
       "      <th>1</th>\n",
       "      <td>2019-12-02</td>\n",
       "      <td>200</td>\n",
       "      <td>20</td>\n",
       "    </tr>\n",
       "    <tr>\n",
       "      <th>2</th>\n",
       "      <td>2019-12-04</td>\n",
       "      <td>400</td>\n",
       "      <td>40</td>\n",
       "    </tr>\n",
       "    <tr>\n",
       "      <th>3</th>\n",
       "      <td>2019-12-05</td>\n",
       "      <td>500</td>\n",
       "      <td>50</td>\n",
       "    </tr>\n",
       "  </tbody>\n",
       "</table>\n",
       "</div>"
      ],
      "text/plain": [
       "        pdate   pv  uv\n",
       "0  2019-12-01  100  10\n",
       "1  2019-12-02  200  20\n",
       "2  2019-12-04  400  40\n",
       "3  2019-12-05  500  50"
      ]
     },
     "execution_count": 11,
     "metadata": {},
     "output_type": "execute_result"
    }
   ],
   "source": [
    "df"
   ]
  },
  {
   "cell_type": "code",
   "execution_count": 12,
   "id": "adverse-skirt",
   "metadata": {},
   "outputs": [
    {
     "data": {
      "text/html": [
       "<div>\n",
       "<style scoped>\n",
       "    .dataframe tbody tr th:only-of-type {\n",
       "        vertical-align: middle;\n",
       "    }\n",
       "\n",
       "    .dataframe tbody tr th {\n",
       "        vertical-align: top;\n",
       "    }\n",
       "\n",
       "    .dataframe thead th {\n",
       "        text-align: right;\n",
       "    }\n",
       "</style>\n",
       "<table border=\"1\" class=\"dataframe\">\n",
       "  <thead>\n",
       "    <tr style=\"text-align: right;\">\n",
       "      <th></th>\n",
       "      <th>pv</th>\n",
       "      <th>uv</th>\n",
       "    </tr>\n",
       "    <tr>\n",
       "      <th>pdate</th>\n",
       "      <th></th>\n",
       "      <th></th>\n",
       "    </tr>\n",
       "  </thead>\n",
       "  <tbody>\n",
       "    <tr>\n",
       "      <th>2019-12-01</th>\n",
       "      <td>100</td>\n",
       "      <td>10</td>\n",
       "    </tr>\n",
       "    <tr>\n",
       "      <th>2019-12-02</th>\n",
       "      <td>200</td>\n",
       "      <td>20</td>\n",
       "    </tr>\n",
       "    <tr>\n",
       "      <th>2019-12-04</th>\n",
       "      <td>400</td>\n",
       "      <td>40</td>\n",
       "    </tr>\n",
       "    <tr>\n",
       "      <th>2019-12-05</th>\n",
       "      <td>500</td>\n",
       "      <td>50</td>\n",
       "    </tr>\n",
       "  </tbody>\n",
       "</table>\n",
       "</div>"
      ],
      "text/plain": [
       "             pv  uv\n",
       "pdate              \n",
       "2019-12-01  100  10\n",
       "2019-12-02  200  20\n",
       "2019-12-04  400  40\n",
       "2019-12-05  500  50"
      ]
     },
     "execution_count": 12,
     "metadata": {},
     "output_type": "execute_result"
    }
   ],
   "source": [
    "df_new2 = df.set_index(pd.to_datetime(df[\"pdate\"])).drop(\"pdate\", axis=1)\n",
    "df_new2"
   ]
  },
  {
   "cell_type": "code",
   "execution_count": 13,
   "id": "focused-performance",
   "metadata": {},
   "outputs": [
    {
     "data": {
      "text/html": [
       "<div>\n",
       "<style scoped>\n",
       "    .dataframe tbody tr th:only-of-type {\n",
       "        vertical-align: middle;\n",
       "    }\n",
       "\n",
       "    .dataframe tbody tr th {\n",
       "        vertical-align: top;\n",
       "    }\n",
       "\n",
       "    .dataframe thead th {\n",
       "        text-align: right;\n",
       "    }\n",
       "</style>\n",
       "<table border=\"1\" class=\"dataframe\">\n",
       "  <thead>\n",
       "    <tr style=\"text-align: right;\">\n",
       "      <th></th>\n",
       "      <th>pv</th>\n",
       "      <th>uv</th>\n",
       "    </tr>\n",
       "    <tr>\n",
       "      <th>pdate</th>\n",
       "      <th></th>\n",
       "      <th></th>\n",
       "    </tr>\n",
       "  </thead>\n",
       "  <tbody>\n",
       "    <tr>\n",
       "      <th>2019-12-01</th>\n",
       "      <td>100.0</td>\n",
       "      <td>10.0</td>\n",
       "    </tr>\n",
       "    <tr>\n",
       "      <th>2019-12-02</th>\n",
       "      <td>200.0</td>\n",
       "      <td>20.0</td>\n",
       "    </tr>\n",
       "    <tr>\n",
       "      <th>2019-12-03</th>\n",
       "      <td>0.0</td>\n",
       "      <td>0.0</td>\n",
       "    </tr>\n",
       "    <tr>\n",
       "      <th>2019-12-04</th>\n",
       "      <td>400.0</td>\n",
       "      <td>40.0</td>\n",
       "    </tr>\n",
       "    <tr>\n",
       "      <th>2019-12-05</th>\n",
       "      <td>500.0</td>\n",
       "      <td>50.0</td>\n",
       "    </tr>\n",
       "  </tbody>\n",
       "</table>\n",
       "</div>"
      ],
      "text/plain": [
       "               pv    uv\n",
       "pdate                  \n",
       "2019-12-01  100.0  10.0\n",
       "2019-12-02  200.0  20.0\n",
       "2019-12-03    0.0   0.0\n",
       "2019-12-04  400.0  40.0\n",
       "2019-12-05  500.0  50.0"
      ]
     },
     "execution_count": 13,
     "metadata": {},
     "output_type": "execute_result"
    }
   ],
   "source": [
    "df_new2 = df_new2.resample(\"D\").mean().fillna(0)\n",
    "df_new2"
   ]
  },
  {
   "cell_type": "code",
   "execution_count": 14,
   "id": "hired-laugh",
   "metadata": {},
   "outputs": [
    {
     "data": {
      "text/html": [
       "<div>\n",
       "<style scoped>\n",
       "    .dataframe tbody tr th:only-of-type {\n",
       "        vertical-align: middle;\n",
       "    }\n",
       "\n",
       "    .dataframe tbody tr th {\n",
       "        vertical-align: top;\n",
       "    }\n",
       "\n",
       "    .dataframe thead th {\n",
       "        text-align: right;\n",
       "    }\n",
       "</style>\n",
       "<table border=\"1\" class=\"dataframe\">\n",
       "  <thead>\n",
       "    <tr style=\"text-align: right;\">\n",
       "      <th></th>\n",
       "      <th>pv</th>\n",
       "      <th>uv</th>\n",
       "    </tr>\n",
       "    <tr>\n",
       "      <th>pdate</th>\n",
       "      <th></th>\n",
       "      <th></th>\n",
       "    </tr>\n",
       "  </thead>\n",
       "  <tbody>\n",
       "    <tr>\n",
       "      <th>2019-12-01</th>\n",
       "      <td>150.0</td>\n",
       "      <td>15.0</td>\n",
       "    </tr>\n",
       "    <tr>\n",
       "      <th>2019-12-03</th>\n",
       "      <td>200.0</td>\n",
       "      <td>20.0</td>\n",
       "    </tr>\n",
       "    <tr>\n",
       "      <th>2019-12-05</th>\n",
       "      <td>500.0</td>\n",
       "      <td>50.0</td>\n",
       "    </tr>\n",
       "  </tbody>\n",
       "</table>\n",
       "</div>"
      ],
      "text/plain": [
       "               pv    uv\n",
       "pdate                  \n",
       "2019-12-01  150.0  15.0\n",
       "2019-12-03  200.0  20.0\n",
       "2019-12-05  500.0  50.0"
      ]
     },
     "execution_count": 14,
     "metadata": {},
     "output_type": "execute_result"
    }
   ],
   "source": [
    "df_new2.resample(\"2D\").mean()"
   ]
  },
  {
   "cell_type": "code",
   "execution_count": 15,
   "id": "boring-citizenship",
   "metadata": {},
   "outputs": [
    {
     "name": "stdout",
     "output_type": "stream",
     "text": [
      "Help on function resample in module pandas.core.generic:\n",
      "\n",
      "resample(self, rule, how=None, axis=0, fill_method=None, closed=None, label=None, convention='start', kind=None, loffset=None, limit=None, base=0, on=None, level=None)\n",
      "    Convenience method for frequency conversion and resampling of time\n",
      "    series.  Object must have a datetime-like index (DatetimeIndex,\n",
      "    PeriodIndex, or TimedeltaIndex), or pass datetime-like values\n",
      "    to the on or level keyword.\n",
      "    \n",
      "    Parameters\n",
      "    ----------\n",
      "    rule : string\n",
      "        the offset string or object representing target conversion\n",
      "    axis : int, optional, default 0\n",
      "    closed : {'right', 'left'}\n",
      "        Which side of bin interval is closed. The default is 'left'\n",
      "        for all frequency offsets except for 'M', 'A', 'Q', 'BM',\n",
      "        'BA', 'BQ', and 'W' which all have a default of 'right'.\n",
      "    label : {'right', 'left'}\n",
      "        Which bin edge label to label bucket with. The default is 'left'\n",
      "        for all frequency offsets except for 'M', 'A', 'Q', 'BM',\n",
      "        'BA', 'BQ', and 'W' which all have a default of 'right'.\n",
      "    convention : {'start', 'end', 's', 'e'}\n",
      "        For PeriodIndex only, controls whether to use the start or end of\n",
      "        `rule`\n",
      "    kind: {'timestamp', 'period'}, optional\n",
      "        Pass 'timestamp' to convert the resulting index to a\n",
      "        ``DateTimeIndex`` or 'period' to convert it to a ``PeriodIndex``.\n",
      "        By default the input representation is retained.\n",
      "    loffset : timedelta\n",
      "        Adjust the resampled time labels\n",
      "    base : int, default 0\n",
      "        For frequencies that evenly subdivide 1 day, the \"origin\" of the\n",
      "        aggregated intervals. For example, for '5min' frequency, base could\n",
      "        range from 0 through 4. Defaults to 0\n",
      "    on : string, optional\n",
      "        For a DataFrame, column to use instead of index for resampling.\n",
      "        Column must be datetime-like.\n",
      "    \n",
      "        .. versionadded:: 0.19.0\n",
      "    \n",
      "    level : string or int, optional\n",
      "        For a MultiIndex, level (name or number) to use for\n",
      "        resampling.  Level must be datetime-like.\n",
      "    \n",
      "        .. versionadded:: 0.19.0\n",
      "    \n",
      "    Returns\n",
      "    -------\n",
      "    Resampler object\n",
      "    \n",
      "    Notes\n",
      "    -----\n",
      "    See the `user guide\n",
      "    <http://pandas.pydata.org/pandas-docs/stable/timeseries.html#resampling>`_\n",
      "    for more.\n",
      "    \n",
      "    To learn more about the offset strings, please see `this link\n",
      "    <http://pandas.pydata.org/pandas-docs/stable/timeseries.html#offset-aliases>`__.\n",
      "    \n",
      "    Examples\n",
      "    --------\n",
      "    \n",
      "    Start by creating a series with 9 one minute timestamps.\n",
      "    \n",
      "    >>> index = pd.date_range('1/1/2000', periods=9, freq='T')\n",
      "    >>> series = pd.Series(range(9), index=index)\n",
      "    >>> series\n",
      "    2000-01-01 00:00:00    0\n",
      "    2000-01-01 00:01:00    1\n",
      "    2000-01-01 00:02:00    2\n",
      "    2000-01-01 00:03:00    3\n",
      "    2000-01-01 00:04:00    4\n",
      "    2000-01-01 00:05:00    5\n",
      "    2000-01-01 00:06:00    6\n",
      "    2000-01-01 00:07:00    7\n",
      "    2000-01-01 00:08:00    8\n",
      "    Freq: T, dtype: int64\n",
      "    \n",
      "    Downsample the series into 3 minute bins and sum the values\n",
      "    of the timestamps falling into a bin.\n",
      "    \n",
      "    >>> series.resample('3T').sum()\n",
      "    2000-01-01 00:00:00     3\n",
      "    2000-01-01 00:03:00    12\n",
      "    2000-01-01 00:06:00    21\n",
      "    Freq: 3T, dtype: int64\n",
      "    \n",
      "    Downsample the series into 3 minute bins as above, but label each\n",
      "    bin using the right edge instead of the left. Please note that the\n",
      "    value in the bucket used as the label is not included in the bucket,\n",
      "    which it labels. For example, in the original series the\n",
      "    bucket ``2000-01-01 00:03:00`` contains the value 3, but the summed\n",
      "    value in the resampled bucket with the label ``2000-01-01 00:03:00``\n",
      "    does not include 3 (if it did, the summed value would be 6, not 3).\n",
      "    To include this value close the right side of the bin interval as\n",
      "    illustrated in the example below this one.\n",
      "    \n",
      "    >>> series.resample('3T', label='right').sum()\n",
      "    2000-01-01 00:03:00     3\n",
      "    2000-01-01 00:06:00    12\n",
      "    2000-01-01 00:09:00    21\n",
      "    Freq: 3T, dtype: int64\n",
      "    \n",
      "    Downsample the series into 3 minute bins as above, but close the right\n",
      "    side of the bin interval.\n",
      "    \n",
      "    >>> series.resample('3T', label='right', closed='right').sum()\n",
      "    2000-01-01 00:00:00     0\n",
      "    2000-01-01 00:03:00     6\n",
      "    2000-01-01 00:06:00    15\n",
      "    2000-01-01 00:09:00    15\n",
      "    Freq: 3T, dtype: int64\n",
      "    \n",
      "    Upsample the series into 30 second bins.\n",
      "    \n",
      "    >>> series.resample('30S').asfreq()[0:5] #select first 5 rows\n",
      "    2000-01-01 00:00:00   0.0\n",
      "    2000-01-01 00:00:30   NaN\n",
      "    2000-01-01 00:01:00   1.0\n",
      "    2000-01-01 00:01:30   NaN\n",
      "    2000-01-01 00:02:00   2.0\n",
      "    Freq: 30S, dtype: float64\n",
      "    \n",
      "    Upsample the series into 30 second bins and fill the ``NaN``\n",
      "    values using the ``pad`` method.\n",
      "    \n",
      "    >>> series.resample('30S').pad()[0:5]\n",
      "    2000-01-01 00:00:00    0\n",
      "    2000-01-01 00:00:30    0\n",
      "    2000-01-01 00:01:00    1\n",
      "    2000-01-01 00:01:30    1\n",
      "    2000-01-01 00:02:00    2\n",
      "    Freq: 30S, dtype: int64\n",
      "    \n",
      "    Upsample the series into 30 second bins and fill the\n",
      "    ``NaN`` values using the ``bfill`` method.\n",
      "    \n",
      "    >>> series.resample('30S').bfill()[0:5]\n",
      "    2000-01-01 00:00:00    0\n",
      "    2000-01-01 00:00:30    1\n",
      "    2000-01-01 00:01:00    1\n",
      "    2000-01-01 00:01:30    2\n",
      "    2000-01-01 00:02:00    2\n",
      "    Freq: 30S, dtype: int64\n",
      "    \n",
      "    Pass a custom function via ``apply``\n",
      "    \n",
      "    >>> def custom_resampler(array_like):\n",
      "    ...     return np.sum(array_like)+5\n",
      "    \n",
      "    >>> series.resample('3T').apply(custom_resampler)\n",
      "    2000-01-01 00:00:00     8\n",
      "    2000-01-01 00:03:00    17\n",
      "    2000-01-01 00:06:00    26\n",
      "    Freq: 3T, dtype: int64\n",
      "    \n",
      "    For a Series with a PeriodIndex, the keyword `convention` can be\n",
      "    used to control whether to use the start or end of `rule`.\n",
      "    \n",
      "    >>> s = pd.Series([1, 2], index=pd.period_range('2012-01-01',\n",
      "                                                    freq='A',\n",
      "                                                    periods=2))\n",
      "    >>> s\n",
      "    2012    1\n",
      "    2013    2\n",
      "    Freq: A-DEC, dtype: int64\n",
      "    \n",
      "    Resample by month using 'start' `convention`. Values are assigned to\n",
      "    the first month of the period.\n",
      "    \n",
      "    >>> s.resample('M', convention='start').asfreq().head()\n",
      "    2012-01    1.0\n",
      "    2012-02    NaN\n",
      "    2012-03    NaN\n",
      "    2012-04    NaN\n",
      "    2012-05    NaN\n",
      "    Freq: M, dtype: float64\n",
      "    \n",
      "    Resample by month using 'end' `convention`. Values are assigned to\n",
      "    the last month of the period.\n",
      "    \n",
      "    >>> s.resample('M', convention='end').asfreq()\n",
      "    2012-12    1.0\n",
      "    2013-01    NaN\n",
      "    2013-02    NaN\n",
      "    2013-03    NaN\n",
      "    2013-04    NaN\n",
      "    2013-05    NaN\n",
      "    2013-06    NaN\n",
      "    2013-07    NaN\n",
      "    2013-08    NaN\n",
      "    2013-09    NaN\n",
      "    2013-10    NaN\n",
      "    2013-11    NaN\n",
      "    2013-12    2.0\n",
      "    Freq: M, dtype: float64\n",
      "    \n",
      "    For DataFrame objects, the keyword ``on`` can be used to specify the\n",
      "    column instead of the index for resampling.\n",
      "    \n",
      "    >>> df = pd.DataFrame(data=9*[range(4)], columns=['a', 'b', 'c', 'd'])\n",
      "    >>> df['time'] = pd.date_range('1/1/2000', periods=9, freq='T')\n",
      "    >>> df.resample('3T', on='time').sum()\n",
      "                         a  b  c  d\n",
      "    time\n",
      "    2000-01-01 00:00:00  0  3  6  9\n",
      "    2000-01-01 00:03:00  0  3  6  9\n",
      "    2000-01-01 00:06:00  0  3  6  9\n",
      "    \n",
      "    For a DataFrame with MultiIndex, the keyword ``level`` can be used to\n",
      "    specify on level the resampling needs to take place.\n",
      "    \n",
      "    >>> time = pd.date_range('1/1/2000', periods=5, freq='T')\n",
      "    >>> df2 = pd.DataFrame(data=10*[range(4)],\n",
      "                           columns=['a', 'b', 'c', 'd'],\n",
      "                           index=pd.MultiIndex.from_product([time, [1, 2]])\n",
      "                           )\n",
      "    >>> df2.resample('3T', level=0).sum()\n",
      "                         a  b   c   d\n",
      "    2000-01-01 00:00:00  0  6  12  18\n",
      "    2000-01-01 00:03:00  0  4   8  12\n",
      "    \n",
      "    See also\n",
      "    --------\n",
      "    groupby : Group by mapping, function, label, or list of labels.\n",
      "\n"
     ]
    }
   ],
   "source": [
    "help(pd.DataFrame.resample)"
   ]
  }
 ],
 "metadata": {
  "kernelspec": {
   "display_name": "Python 3",
   "language": "python",
   "name": "python3"
  },
  "language_info": {
   "codemirror_mode": {
    "name": "ipython",
    "version": 3
   },
   "file_extension": ".py",
   "mimetype": "text/x-python",
   "name": "python",
   "nbconvert_exporter": "python",
   "pygments_lexer": "ipython3",
   "version": "3.7.2"
  }
 },
 "nbformat": 4,
 "nbformat_minor": 5
}
