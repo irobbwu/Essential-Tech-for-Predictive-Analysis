{
 "cells": [
  {
   "cell_type": "markdown",
   "id": "assumed-salmon",
   "metadata": {},
   "source": [
    "# Statistic Function"
   ]
  },
  {
   "cell_type": "code",
   "execution_count": 1,
   "id": "revised-tract",
   "metadata": {
    "scrolled": false
   },
   "outputs": [
    {
     "data": {
      "text/html": [
       "<div>\n",
       "<style scoped>\n",
       "    .dataframe tbody tr th:only-of-type {\n",
       "        vertical-align: middle;\n",
       "    }\n",
       "\n",
       "    .dataframe tbody tr th {\n",
       "        vertical-align: top;\n",
       "    }\n",
       "\n",
       "    .dataframe thead th {\n",
       "        text-align: right;\n",
       "    }\n",
       "</style>\n",
       "<table border=\"1\" class=\"dataframe\">\n",
       "  <thead>\n",
       "    <tr style=\"text-align: right;\">\n",
       "      <th></th>\n",
       "      <th>ymd</th>\n",
       "      <th>bWendu</th>\n",
       "      <th>yWendu</th>\n",
       "      <th>tianqi</th>\n",
       "      <th>fengxiang</th>\n",
       "      <th>fengli</th>\n",
       "      <th>aqi</th>\n",
       "      <th>aqiInfo</th>\n",
       "      <th>aqiLevel</th>\n",
       "    </tr>\n",
       "  </thead>\n",
       "  <tbody>\n",
       "    <tr>\n",
       "      <th>0</th>\n",
       "      <td>2018-01-01</td>\n",
       "      <td>3℃</td>\n",
       "      <td>-6℃</td>\n",
       "      <td>晴~多云</td>\n",
       "      <td>东北风</td>\n",
       "      <td>1-2级</td>\n",
       "      <td>59</td>\n",
       "      <td>良</td>\n",
       "      <td>2</td>\n",
       "    </tr>\n",
       "    <tr>\n",
       "      <th>1</th>\n",
       "      <td>2018-01-02</td>\n",
       "      <td>2℃</td>\n",
       "      <td>-5℃</td>\n",
       "      <td>阴~多云</td>\n",
       "      <td>东北风</td>\n",
       "      <td>1-2级</td>\n",
       "      <td>49</td>\n",
       "      <td>优</td>\n",
       "      <td>1</td>\n",
       "    </tr>\n",
       "    <tr>\n",
       "      <th>2</th>\n",
       "      <td>2018-01-03</td>\n",
       "      <td>2℃</td>\n",
       "      <td>-5℃</td>\n",
       "      <td>多云</td>\n",
       "      <td>北风</td>\n",
       "      <td>1-2级</td>\n",
       "      <td>28</td>\n",
       "      <td>优</td>\n",
       "      <td>1</td>\n",
       "    </tr>\n",
       "    <tr>\n",
       "      <th>3</th>\n",
       "      <td>2018-01-04</td>\n",
       "      <td>0℃</td>\n",
       "      <td>-8℃</td>\n",
       "      <td>阴</td>\n",
       "      <td>东北风</td>\n",
       "      <td>1-2级</td>\n",
       "      <td>28</td>\n",
       "      <td>优</td>\n",
       "      <td>1</td>\n",
       "    </tr>\n",
       "    <tr>\n",
       "      <th>4</th>\n",
       "      <td>2018-01-05</td>\n",
       "      <td>3℃</td>\n",
       "      <td>-6℃</td>\n",
       "      <td>多云~晴</td>\n",
       "      <td>西北风</td>\n",
       "      <td>1-2级</td>\n",
       "      <td>50</td>\n",
       "      <td>优</td>\n",
       "      <td>1</td>\n",
       "    </tr>\n",
       "  </tbody>\n",
       "</table>\n",
       "</div>"
      ],
      "text/plain": [
       "          ymd bWendu yWendu tianqi fengxiang fengli  aqi aqiInfo  aqiLevel\n",
       "0  2018-01-01     3℃    -6℃   晴~多云       东北风   1-2级   59       良         2\n",
       "1  2018-01-02     2℃    -5℃   阴~多云       东北风   1-2级   49       优         1\n",
       "2  2018-01-03     2℃    -5℃     多云        北风   1-2级   28       优         1\n",
       "3  2018-01-04     0℃    -8℃      阴       东北风   1-2级   28       优         1\n",
       "4  2018-01-05     3℃    -6℃   多云~晴       西北风   1-2级   50       优         1"
      ]
     },
     "execution_count": 1,
     "metadata": {},
     "output_type": "execute_result"
    }
   ],
   "source": [
    "import pandas as pd\n",
    "data = pd.read_csv('datas/beijing_tianqi/beijing_tianqi_2018.csv')\n",
    "\n",
    "data.head()"
   ]
  },
  {
   "cell_type": "code",
   "execution_count": 2,
   "id": "dominant-thumbnail",
   "metadata": {},
   "outputs": [],
   "source": [
    "# Delete °C\n",
    "data.loc[:, 'bWendu'] = data['bWendu'].str.replace('℃','').astype('int32')\n",
    "data.loc[:, 'yWendu'] = data['yWendu'].str.replace('℃','').astype('int32')"
   ]
  },
  {
   "cell_type": "markdown",
   "id": "reported-anniversary",
   "metadata": {},
   "source": [
    "## Describe"
   ]
  },
  {
   "cell_type": "code",
   "execution_count": 3,
   "id": "improved-calculator",
   "metadata": {},
   "outputs": [
    {
     "data": {
      "text/html": [
       "<div>\n",
       "<style scoped>\n",
       "    .dataframe tbody tr th:only-of-type {\n",
       "        vertical-align: middle;\n",
       "    }\n",
       "\n",
       "    .dataframe tbody tr th {\n",
       "        vertical-align: top;\n",
       "    }\n",
       "\n",
       "    .dataframe thead th {\n",
       "        text-align: right;\n",
       "    }\n",
       "</style>\n",
       "<table border=\"1\" class=\"dataframe\">\n",
       "  <thead>\n",
       "    <tr style=\"text-align: right;\">\n",
       "      <th></th>\n",
       "      <th>bWendu</th>\n",
       "      <th>yWendu</th>\n",
       "      <th>aqi</th>\n",
       "      <th>aqiLevel</th>\n",
       "    </tr>\n",
       "  </thead>\n",
       "  <tbody>\n",
       "    <tr>\n",
       "      <th>count</th>\n",
       "      <td>365.000000</td>\n",
       "      <td>365.000000</td>\n",
       "      <td>365.000000</td>\n",
       "      <td>365.000000</td>\n",
       "    </tr>\n",
       "    <tr>\n",
       "      <th>mean</th>\n",
       "      <td>18.665753</td>\n",
       "      <td>8.358904</td>\n",
       "      <td>82.183562</td>\n",
       "      <td>2.090411</td>\n",
       "    </tr>\n",
       "    <tr>\n",
       "      <th>std</th>\n",
       "      <td>11.858046</td>\n",
       "      <td>11.755053</td>\n",
       "      <td>51.936159</td>\n",
       "      <td>1.029798</td>\n",
       "    </tr>\n",
       "    <tr>\n",
       "      <th>min</th>\n",
       "      <td>-5.000000</td>\n",
       "      <td>-12.000000</td>\n",
       "      <td>21.000000</td>\n",
       "      <td>1.000000</td>\n",
       "    </tr>\n",
       "    <tr>\n",
       "      <th>25%</th>\n",
       "      <td>8.000000</td>\n",
       "      <td>-3.000000</td>\n",
       "      <td>46.000000</td>\n",
       "      <td>1.000000</td>\n",
       "    </tr>\n",
       "    <tr>\n",
       "      <th>50%</th>\n",
       "      <td>21.000000</td>\n",
       "      <td>8.000000</td>\n",
       "      <td>69.000000</td>\n",
       "      <td>2.000000</td>\n",
       "    </tr>\n",
       "    <tr>\n",
       "      <th>75%</th>\n",
       "      <td>29.000000</td>\n",
       "      <td>19.000000</td>\n",
       "      <td>104.000000</td>\n",
       "      <td>3.000000</td>\n",
       "    </tr>\n",
       "    <tr>\n",
       "      <th>max</th>\n",
       "      <td>38.000000</td>\n",
       "      <td>27.000000</td>\n",
       "      <td>387.000000</td>\n",
       "      <td>6.000000</td>\n",
       "    </tr>\n",
       "  </tbody>\n",
       "</table>\n",
       "</div>"
      ],
      "text/plain": [
       "           bWendu      yWendu         aqi    aqiLevel\n",
       "count  365.000000  365.000000  365.000000  365.000000\n",
       "mean    18.665753    8.358904   82.183562    2.090411\n",
       "std     11.858046   11.755053   51.936159    1.029798\n",
       "min     -5.000000  -12.000000   21.000000    1.000000\n",
       "25%      8.000000   -3.000000   46.000000    1.000000\n",
       "50%     21.000000    8.000000   69.000000    2.000000\n",
       "75%     29.000000   19.000000  104.000000    3.000000\n",
       "max     38.000000   27.000000  387.000000    6.000000"
      ]
     },
     "execution_count": 3,
     "metadata": {},
     "output_type": "execute_result"
    }
   ],
   "source": [
    "data.describe()"
   ]
  },
  {
   "cell_type": "code",
   "execution_count": 4,
   "id": "alleged-detroit",
   "metadata": {},
   "outputs": [
    {
     "data": {
      "text/plain": [
       "38"
      ]
     },
     "execution_count": 4,
     "metadata": {},
     "output_type": "execute_result"
    }
   ],
   "source": [
    "data['bWendu'].max()"
   ]
  },
  {
   "cell_type": "code",
   "execution_count": 5,
   "id": "perfect-diploma",
   "metadata": {},
   "outputs": [
    {
     "data": {
      "text/plain": [
       "-5"
      ]
     },
     "execution_count": 5,
     "metadata": {},
     "output_type": "execute_result"
    }
   ],
   "source": [
    "data['bWendu'].min()"
   ]
  },
  {
   "cell_type": "code",
   "execution_count": 6,
   "id": "activated-apple",
   "metadata": {},
   "outputs": [
    {
     "data": {
      "text/plain": [
       "365"
      ]
     },
     "execution_count": 6,
     "metadata": {},
     "output_type": "execute_result"
    }
   ],
   "source": [
    "data['bWendu'].count()"
   ]
  },
  {
   "cell_type": "code",
   "execution_count": 7,
   "id": "distributed-bottle",
   "metadata": {
    "scrolled": true
   },
   "outputs": [
    {
     "data": {
      "text/plain": [
       "11.858045666421836"
      ]
     },
     "execution_count": 7,
     "metadata": {},
     "output_type": "execute_result"
    }
   ],
   "source": [
    "data['bWendu'].std()"
   ]
  },
  {
   "cell_type": "markdown",
   "id": "subject-value",
   "metadata": {},
   "source": [
    "## Remove Duplicates"
   ]
  },
  {
   "cell_type": "code",
   "execution_count": 8,
   "id": "dying-rebound",
   "metadata": {},
   "outputs": [
    {
     "data": {
      "text/plain": [
       "array(['东北风', '北风', '西北风', '西南风', '南风', '东南风', '东风', '西风'], dtype=object)"
      ]
     },
     "execution_count": 8,
     "metadata": {},
     "output_type": "execute_result"
    }
   ],
   "source": [
    "data['fengxiang'].unique()"
   ]
  },
  {
   "cell_type": "markdown",
   "id": "thousand-chapter",
   "metadata": {},
   "source": [
    "### Value_counts"
   ]
  },
  {
   "cell_type": "code",
   "execution_count": 9,
   "id": "favorite-financing",
   "metadata": {},
   "outputs": [
    {
     "data": {
      "text/plain": [
       "晴         101\n",
       "多云         95\n",
       "多云~晴       40\n",
       "晴~多云       34\n",
       "多云~雷阵雨     14\n",
       "多云~阴       10\n",
       "雷阵雨         8\n",
       "阴~多云        8\n",
       "小雨~多云       8\n",
       "雷阵雨~多云      7\n",
       "小雨          6\n",
       "多云~小雨       5\n",
       "雷阵雨~中雨      4\n",
       "阴           4\n",
       "中雨~小雨       2\n",
       "霾           2\n",
       "阴~小雨        2\n",
       "中雨~雷阵雨      2\n",
       "雷阵雨~阴       1\n",
       "小雨~雨夹雪      1\n",
       "小雨~中雨       1\n",
       "阴~雷阵雨       1\n",
       "大雨~小雨       1\n",
       "小雪~多云       1\n",
       "雷阵雨~大雨      1\n",
       "小雨~大雨       1\n",
       "暴雨~雷阵雨      1\n",
       "雾~多云        1\n",
       "小雨~阴        1\n",
       "小雨~雷阵雨      1\n",
       "阴~小雪        1\n",
       "Name: tianqi, dtype: int64"
      ]
     },
     "execution_count": 9,
     "metadata": {},
     "output_type": "execute_result"
    }
   ],
   "source": [
    "data['tianqi'].value_counts()"
   ]
  },
  {
   "cell_type": "markdown",
   "id": "conceptual-tracker",
   "metadata": {},
   "source": [
    "## Corr & Cov"
   ]
  },
  {
   "cell_type": "code",
   "execution_count": 10,
   "id": "fresh-yield",
   "metadata": {},
   "outputs": [
    {
     "data": {
      "text/html": [
       "<div>\n",
       "<style scoped>\n",
       "    .dataframe tbody tr th:only-of-type {\n",
       "        vertical-align: middle;\n",
       "    }\n",
       "\n",
       "    .dataframe tbody tr th {\n",
       "        vertical-align: top;\n",
       "    }\n",
       "\n",
       "    .dataframe thead th {\n",
       "        text-align: right;\n",
       "    }\n",
       "</style>\n",
       "<table border=\"1\" class=\"dataframe\">\n",
       "  <thead>\n",
       "    <tr style=\"text-align: right;\">\n",
       "      <th></th>\n",
       "      <th>bWendu</th>\n",
       "      <th>yWendu</th>\n",
       "    </tr>\n",
       "  </thead>\n",
       "  <tbody>\n",
       "    <tr>\n",
       "      <th>bWendu</th>\n",
       "      <td>140.613247</td>\n",
       "      <td>135.529633</td>\n",
       "    </tr>\n",
       "    <tr>\n",
       "      <th>yWendu</th>\n",
       "      <td>135.529633</td>\n",
       "      <td>138.181274</td>\n",
       "    </tr>\n",
       "  </tbody>\n",
       "</table>\n",
       "</div>"
      ],
      "text/plain": [
       "            bWendu      yWendu\n",
       "bWendu  140.613247  135.529633\n",
       "yWendu  135.529633  138.181274"
      ]
     },
     "execution_count": 10,
     "metadata": {},
     "output_type": "execute_result"
    }
   ],
   "source": [
    "data[['bWendu','yWendu']].cov()"
   ]
  },
  {
   "cell_type": "code",
   "execution_count": 11,
   "id": "martial-notebook",
   "metadata": {},
   "outputs": [
    {
     "data": {
      "text/html": [
       "<div>\n",
       "<style scoped>\n",
       "    .dataframe tbody tr th:only-of-type {\n",
       "        vertical-align: middle;\n",
       "    }\n",
       "\n",
       "    .dataframe tbody tr th {\n",
       "        vertical-align: top;\n",
       "    }\n",
       "\n",
       "    .dataframe thead th {\n",
       "        text-align: right;\n",
       "    }\n",
       "</style>\n",
       "<table border=\"1\" class=\"dataframe\">\n",
       "  <thead>\n",
       "    <tr style=\"text-align: right;\">\n",
       "      <th></th>\n",
       "      <th>bWendu</th>\n",
       "      <th>yWendu</th>\n",
       "    </tr>\n",
       "  </thead>\n",
       "  <tbody>\n",
       "    <tr>\n",
       "      <th>bWendu</th>\n",
       "      <td>1.000000</td>\n",
       "      <td>0.972292</td>\n",
       "    </tr>\n",
       "    <tr>\n",
       "      <th>yWendu</th>\n",
       "      <td>0.972292</td>\n",
       "      <td>1.000000</td>\n",
       "    </tr>\n",
       "  </tbody>\n",
       "</table>\n",
       "</div>"
      ],
      "text/plain": [
       "          bWendu    yWendu\n",
       "bWendu  1.000000  0.972292\n",
       "yWendu  0.972292  1.000000"
      ]
     },
     "execution_count": 11,
     "metadata": {},
     "output_type": "execute_result"
    }
   ],
   "source": [
    "data[['bWendu','yWendu']].corr()"
   ]
  },
  {
   "cell_type": "code",
   "execution_count": 12,
   "id": "premier-routine",
   "metadata": {},
   "outputs": [
    {
     "data": {
      "text/plain": [
       "0.9722916304498574"
      ]
     },
     "execution_count": 12,
     "metadata": {},
     "output_type": "execute_result"
    }
   ],
   "source": [
    "data['yWendu'].corr(data['bWendu'])"
   ]
  },
  {
   "cell_type": "code",
   "execution_count": 13,
   "id": "mobile-duration",
   "metadata": {},
   "outputs": [
    {
     "data": {
      "text/plain": [
       "0.2165225757638205"
      ]
     },
     "execution_count": 13,
     "metadata": {},
     "output_type": "execute_result"
    }
   ],
   "source": [
    "data['aqi'].corr(data['bWendu']-data['yWendu'])"
   ]
  }
 ],
 "metadata": {
  "kernelspec": {
   "display_name": "Python 3",
   "language": "python",
   "name": "python3"
  },
  "language_info": {
   "codemirror_mode": {
    "name": "ipython",
    "version": 3
   },
   "file_extension": ".py",
   "mimetype": "text/x-python",
   "name": "python",
   "nbconvert_exporter": "python",
   "pygments_lexer": "ipython3",
   "version": "3.7.2"
  }
 },
 "nbformat": 4,
 "nbformat_minor": 5
}
